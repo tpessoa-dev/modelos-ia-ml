{
 "cells": [
  {
   "cell_type": "markdown",
   "metadata": {},
   "source": [
    "<b>Vinicius F. Caridá</b>"
   ]
  },
  {
   "cell_type": "markdown",
   "metadata": {},
   "source": [
    "<h1 style=\"text-align:center\"> Machine Learning Hands-On </h1>"
   ]
  },
  {
   "cell_type": "markdown",
   "metadata": {},
   "source": [
    "<h3 class=\"title\"> Links úteis: </h3>\n",
    "<br>\n",
    "<ol>\n",
    "  <li class=\"item\"><a href = \"http://scikit-learn.org/stable/\"> Sklearn</a>: principal biblioteca de aprendizado de máquina para python.</li>\n",
    "  <li class=\"item\"><a href = \"http://pandas.pydata.org/pandas-docs/stable/\"> Pandas</a>: (quase) tudo o que você precisa para trabalhar rapidamente com tabelas</li>\n",
    "  <li class=\"item\"><a href = \"https://docs.scipy.org/doc/numpy/reference/index.html\"> Numpy</a>: funções matemáticas estão aqui</li>\n",
    "  <li class=\"item\"><a href = \"https://matplotlib.org/contents.html\"> Matplotlib</a>: te ajuda a plotar!</li>\n",
    "  <li class=\"item\"><a href = \"https://seaborn.pydata.org/api.html\"> Seaborn</a>: Deixa a matplotlib bonita (contém plots mais bem estruturados)</li>\n",
    "</ol>"
   ]
  },
  {
   "cell_type": "markdown",
   "metadata": {},
   "source": [
    "<b>Trabalharemos com as seguintes bases de dados:</b>\n",
    "- iris.csv\n",
    "- lenses_final.csv\n",
    "- car.data\n",
    "- horse-colic.data\n",
    "- PETR4.SA.csv\n",
    "- Boston.csv\n",
    "- artificial_data\n",
    "\n",
    "<b>Testem a leitura de um dos arquivos deste curso</b>\n",
    "- Acessem a documentação da função <i>read_csv</i> do <i>pandas</i>: https://pandas.pydata.org/pandas-docs/stable/generated/pandas.read_csv.html"
   ]
  },
  {
   "cell_type": "code",
   "execution_count": 1,
   "metadata": {},
   "outputs": [],
   "source": [
    "import numpy as np \n",
    "import pandas as pd\n",
    "%matplotlib inline\n",
    "import matplotlib.pyplot as plt\n",
    "import seaborn as sns\n",
    "sns.set_style('whitegrid', {\"axes.grid\" : False})\n",
    "sns.set_context('notebook')\n",
    "np.random.seed(42)"
   ]
  },
  {
   "cell_type": "code",
   "execution_count": 2,
   "metadata": {},
   "outputs": [
    {
     "name": "stderr",
     "output_type": "stream",
     "text": [
      "C:\\Users\\vinicius\\Anaconda3\\lib\\site-packages\\ipykernel_launcher.py:4: FutureWarning: read_table is deprecated, use read_csv instead, passing sep='\\t'.\n",
      "  after removing the cwd from sys.path.\n"
     ]
    }
   ],
   "source": [
    "iris            = pd.read_csv(\"./data/iris.csv\")\n",
    "lenses          = pd.read_csv(\"./data/lenses_final.csv\")\n",
    "car             = pd.read_csv(\"./data/cars.csv\")\n",
    "horsecolic      = pd.read_table(\"./data/horse-colic.data\")"
   ]
  },
  {
   "cell_type": "markdown",
   "metadata": {},
   "source": [
    "<h2 style=\"text-align:center; margin:40px\"> Regressão Logística </h2>\n",
    "\n",
    "![](img/logreg.png)\n",
    "\n",
    "A <b>regressão logística</b> é um tipo de regressão utilizada no caso de resposta binária. O valor retornado pela regressão logística representa a probabilidade de ocorrer o evento de interesse.\n",
    "\n",
    "Assim como na regressão linear, queremos encontrar os parâmetros $\\beta$ que fazem o modelo melhor se ajustar aos dados. Partimos de uma função linear:\n",
    "\n",
    "$$ f_{\\beta}(x) = \\sum_{i = 0}^{N} \\beta_ix_i$$\n",
    "\n",
    "E \"encapsulamos\" a função linear com uma função (chamada de <b>logística</b> ou <b>sigmoide</b>) que mapeia o espaço dos números reais em um espaço reduzido entre 0 e 1:\n",
    "\n",
    "$$ \\sigma(z) = \\frac{1}{1 + e^{-z}}$$\n",
    "\n",
    "<b>O novo modelo é dado por:</b>\n",
    "\n",
    "$$ f_{\\beta}(x) = \\sigma(\\sum_{i = 0}^{N} \\beta_ix_i) = \\frac{1}{1 + e^{-\\sum_{i = 0}^{N} \\beta_ix_i}}$$\n",
    "\n",
    "Também substituímos a <b>função de erro</b> por uma função mais adequada para a variável resposta binária:\n",
    "\n",
    "$$ L(x_i, y_i) = \\color{red}{-y_i\\log(f_{\\beta}(x_i))}\\color{blue}{-(1-y_i)\\log(1-f_{\\beta}(x_i))}$$\n",
    "\n",
    "E mais uma vez aplicamos o método de gradiente descendente para encontrar o valor ótimo de $\\beta$."
   ]
  },
  {
   "cell_type": "markdown",
   "metadata": {},
   "source": [
    "<h3> Scikit-Learn </h3>\n",
    "Agora, vamos rodar os códigos abaixo que usam uma implementação do algoritmo disponível no pacote <i>sklearn</i> (Scikit-Learn). Mas antes vamos dar uma olhada na base que usaremos com os próximos algoritmos de classificação"
   ]
  },
  {
   "cell_type": "code",
   "execution_count": 3,
   "metadata": {},
   "outputs": [
    {
     "data": {
      "text/plain": [
       "<matplotlib.collections.PathCollection at 0x25ab52a89e8>"
      ]
     },
     "execution_count": 3,
     "metadata": {},
     "output_type": "execute_result"
    },
    {
     "data": {
      "image/png": "[encoded data removed]",
      "text/plain": [
       "<Figure size 432x288 with 1 Axes>"
      ]
     },
     "metadata": {
      "needs_background": "light"
     },
     "output_type": "display_data"
    }
   ],
   "source": [
    "baseDados = pd.read_csv('data/base_regressao_logistica.csv')\n",
    "plt.scatter(baseDados.X1[baseDados.Y == 0], baseDados.X2[baseDados.Y == 0], c = 'darkgreen', marker = '^')\n",
    "plt.scatter(baseDados.X1[baseDados.Y == 1], baseDados.X2[baseDados.Y == 1], c = 'black', marker = ',')"
   ]
  },
  {
   "cell_type": "code",
   "execution_count": 4,
   "metadata": {},
   "outputs": [],
   "source": [
    "from sklearn.linear_model import LogisticRegression\n",
    "from sklearn.preprocessing import PolynomialFeatures"
   ]
  },
  {
   "cell_type": "markdown",
   "metadata": {},
   "source": [
    "No regressor logístico do _sklearn_ utilizamos um parâmetro de regularização $ C $.\n",
    "\n",
    "A fórmula de custo $J(f_{\\beta}, y)$ recebe um termo adicional $\\frac{1}{C} \\sum_{i=1}^{n} \\beta_i^2$ (regularização $l_2$).\n",
    "\n",
    "O parâmetro $ C $ controla quão grandes os coeficientes $ \\beta_i $ podem se tornar. Quanto menor o valor de $ C $, mais penalizado o modelo será por utilizar os coeficientes."
   ]
  },
  {
   "cell_type": "code",
   "execution_count": 5,
   "metadata": {},
   "outputs": [
    {
     "data": {
      "text/plain": [
       "LogisticRegression(C=1, class_weight=None, dual=False, fit_intercept=True,\n",
       "          intercept_scaling=1, max_iter=100, multi_class='ovr', n_jobs=1,\n",
       "          penalty='l2', random_state=None, solver='liblinear', tol=0.0001,\n",
       "          verbose=0, warm_start=False)"
      ]
     },
     "execution_count": 5,
     "metadata": {},
     "output_type": "execute_result"
    }
   ],
   "source": [
    "LR = LogisticRegression(C = 1)\n",
    "X = baseDados.loc[:, baseDados.columns != 'Y']\n",
    "Y = baseDados.Y\n",
    "LR.fit(X,Y)"
   ]
  },
  {
   "cell_type": "code",
   "execution_count": 6,
   "metadata": {},
   "outputs": [
    {
     "data": {
      "text/plain": [
       "<matplotlib.collections.PathCollection at 0x25ab5730a58>"
      ]
     },
     "execution_count": 6,
     "metadata": {},
     "output_type": "execute_result"
    },
    {
     "data": {
      "image/png": "[encoded data removed]",
      "text/plain": [
       "<Figure size 432x288 with 1 Axes>"
      ]
     },
     "metadata": {
      "needs_background": "light"
     },
     "output_type": "display_data"
    }
   ],
   "source": [
    "x_min, x_max = baseDados.X1.min() - .1, baseDados.X1.max() + .1\n",
    "y_min, y_max = baseDados.X2.min() - .1, baseDados.X2.max() + .1\n",
    "h = .005\n",
    "xx, yy = np.meshgrid(np.arange(x_min, x_max, h), np.arange(y_min, y_max, h))\n",
    "Z = LR.predict(np.c_[xx.ravel(), yy.ravel()])\n",
    "\n",
    "Z = Z.reshape(xx.shape)\n",
    "plt.figure()\n",
    "plt.pcolormesh(xx, yy, Z, cmap = plt.cm.Accent)\n",
    "\n",
    "pred = LR.predict(X)\n",
    "plt.scatter(baseDados.X1[Y == 0], baseDados.X2[Y == 0], c = 'darkgreen', marker = '^')\n",
    "plt.scatter(baseDados.X1[Y == 1], baseDados.X2[Y == 1], c = 'black', marker = ',')"
   ]
  },
  {
   "cell_type": "markdown",
   "metadata": {},
   "source": [
    "Agora iremos treinar um modelo mais complexo. Agora teremos atributos polinomiais, e então, além de ter coeficientes para as variáveis preditivas, também teremos para suas combinações polinomiais, como por exemplo $ x_1^2, x_2^2, x_1x_2, x_1^2x_2, x_1x_2^2, x_1^3, x_2^3 $. Por exemplo, para atributos quadráticos temos $ f_{\\beta}(x) = {\\beta_0} + {\\beta_1}x_1 + {\\beta_2}x_1^2 + {\\beta_3}x_2 + {\\beta_4}x_2^2 + {\\beta_5}x_1x_2 $"
   ]
  },
  {
   "cell_type": "code",
   "execution_count": 7,
   "metadata": {},
   "outputs": [
    {
     "data": {
      "text/plain": [
       "LogisticRegression(C=10000000000.0, class_weight=None, dual=False,\n",
       "          fit_intercept=True, intercept_scaling=1, max_iter=100,\n",
       "          multi_class='ovr', n_jobs=1, penalty='l2', random_state=None,\n",
       "          solver='liblinear', tol=0.0001, verbose=0, warm_start=False)"
      ]
     },
     "execution_count": 7,
     "metadata": {},
     "output_type": "execute_result"
    }
   ],
   "source": [
    "LR = LogisticRegression(C = 1e10)\n",
    "grau = 10\n",
    "X = PolynomialFeatures(degree = grau).fit_transform(baseDados[baseDados.columns[:-1]])\n",
    "Y = baseDados['Y']\n",
    "LR.fit(X,Y)"
   ]
  },
  {
   "cell_type": "code",
   "execution_count": 8,
   "metadata": {},
   "outputs": [
    {
     "data": {
      "text/plain": [
       "<matplotlib.collections.PathCollection at 0x25ab5940550>"
      ]
     },
     "execution_count": 8,
     "metadata": {},
     "output_type": "execute_result"
    },
    {
     "data": {
      "image/png": "[encoded data removed]",
      "text/plain": [
       "<Figure size 432x288 with 1 Axes>"
      ]
     },
     "metadata": {
      "needs_background": "light"
     },
     "output_type": "display_data"
    }
   ],
   "source": [
    "x_min, x_max = baseDados.X1.min() - .1, baseDados.X1.max() + .1\n",
    "y_min, y_max = baseDados.X2.min() - .1, baseDados.X2.max() + .1\n",
    "h = .005\n",
    "xx, yy = np.meshgrid(np.arange(x_min, x_max, h), np.arange(y_min, y_max, h))\n",
    "Z = LR.predict(PolynomialFeatures(degree = grau).fit_transform(np.c_[xx.ravel(),yy.ravel()]))\n",
    "\n",
    "Z = Z.reshape(xx.shape)\n",
    "plt.figure()\n",
    "plt.pcolormesh(xx, yy, Z, cmap = plt.cm.Accent)\n",
    "\n",
    "pred = LR.predict(X)\n",
    "plt.scatter(baseDados.X1[Y == 0], baseDados.X2[Y == 0], c = 'darkgreen', marker = '^')\n",
    "plt.scatter(baseDados.X1[Y == 1], baseDados.X2[Y == 1], c = 'black', marker = ',')"
   ]
  },
  {
   "cell_type": "code",
   "execution_count": null,
   "metadata": {},
   "outputs": [],
   "source": []
  },
  {
   "cell_type": "markdown",
   "metadata": {},
   "source": [
    "Vamos utilizar os mesmos dados empregados no modelo de regressão linear para uma outra tarefa. Classificar o indivíduo nos sexos masculino e feminino dado o seu peso e altura. "
   ]
  },
  {
   "cell_type": "code",
   "execution_count": 9,
   "metadata": {},
   "outputs": [],
   "source": [
    "import matplotlib.pyplot as plt\n",
    "import seaborn as sns\n",
    "import pandas as pd\n",
    "import numpy as np\n",
    "from sklearn.linear_model import LogisticRegression\n",
    "from sklearn.metrics import mean_squared_error\n",
    "%matplotlib inline\n",
    "from sklearn.metrics import classification_report"
   ]
  },
  {
   "cell_type": "code",
   "execution_count": 10,
   "metadata": {},
   "outputs": [],
   "source": [
    "pesos = pd.read_csv('weights.csv', sep=';')"
   ]
  },
  {
   "cell_type": "markdown",
   "metadata": {},
   "source": [
    "Como já fizemos uma análise exploratória de dados no exercício de regressão linear, vamos pular essa parte e seguirmos direto para a remoção dos outliers."
   ]
  },
  {
   "cell_type": "code",
   "execution_count": 11,
   "metadata": {},
   "outputs": [
    {
     "data": {
      "text/plain": [
       "<matplotlib.collections.PathCollection at 0x25ab5b34ba8>"
      ]
     },
     "execution_count": 11,
     "metadata": {},
     "output_type": "execute_result"
    },
    {
     "data": {
      "image/png": "[encoded data removed]",
      "text/plain": [
       "<Figure size 432x288 with 1 Axes>"
      ]
     },
     "metadata": {
      "needs_background": "light"
     },
     "output_type": "display_data"
    }
   ],
   "source": [
    "pesos = pesos[pesos.weight <= 100].reset_index(drop=True)\n",
    "plt.scatter(x=pesos.loc[pesos.sex=='M', 'height'], y=pesos.loc[pesos.sex=='M', 'weight'], c='blue')\n",
    "plt.scatter(x=pesos.loc[pesos.sex=='F', 'height'], y=pesos.loc[pesos.sex=='F', 'weight'], c='red')"
   ]
  },
  {
   "cell_type": "markdown",
   "metadata": {},
   "source": [
    "Observe que, apesar de uma leve sobreposição, conseguimos separar os indivídos do sexo masculino com uma reta. O que vamos encontrar com nossa Regressão Logística é a reta que melhor separa esses dados"
   ]
  },
  {
   "cell_type": "code",
   "execution_count": 12,
   "metadata": {},
   "outputs": [
    {
     "data": {
      "text/html": [
       "<div>\n",
       "<style scoped>\n",
       "    .dataframe tbody tr th:only-of-type {\n",
       "        vertical-align: middle;\n",
       "    }\n",
       "\n",
       "    .dataframe tbody tr th {\n",
       "        vertical-align: top;\n",
       "    }\n",
       "\n",
       "    .dataframe thead th {\n",
       "        text-align: right;\n",
       "    }\n",
       "</style>\n",
       "<table border=\"1\" class=\"dataframe\">\n",
       "  <thead>\n",
       "    <tr style=\"text-align: right;\">\n",
       "      <th></th>\n",
       "      <th>sex</th>\n",
       "      <th>weight</th>\n",
       "      <th>height</th>\n",
       "      <th>M</th>\n",
       "    </tr>\n",
       "  </thead>\n",
       "  <tbody>\n",
       "    <tr>\n",
       "      <th>0</th>\n",
       "      <td>M</td>\n",
       "      <td>77</td>\n",
       "      <td>182</td>\n",
       "      <td>1</td>\n",
       "    </tr>\n",
       "    <tr>\n",
       "      <th>1</th>\n",
       "      <td>F</td>\n",
       "      <td>58</td>\n",
       "      <td>161</td>\n",
       "      <td>0</td>\n",
       "    </tr>\n",
       "    <tr>\n",
       "      <th>2</th>\n",
       "      <td>F</td>\n",
       "      <td>53</td>\n",
       "      <td>161</td>\n",
       "      <td>0</td>\n",
       "    </tr>\n",
       "    <tr>\n",
       "      <th>3</th>\n",
       "      <td>M</td>\n",
       "      <td>68</td>\n",
       "      <td>177</td>\n",
       "      <td>1</td>\n",
       "    </tr>\n",
       "    <tr>\n",
       "      <th>4</th>\n",
       "      <td>F</td>\n",
       "      <td>59</td>\n",
       "      <td>157</td>\n",
       "      <td>0</td>\n",
       "    </tr>\n",
       "  </tbody>\n",
       "</table>\n",
       "</div>"
      ],
      "text/plain": [
       "  sex  weight  height  M\n",
       "0   M      77     182  1\n",
       "1   F      58     161  0\n",
       "2   F      53     161  0\n",
       "3   M      68     177  1\n",
       "4   F      59     157  0"
      ]
     },
     "execution_count": 12,
     "metadata": {},
     "output_type": "execute_result"
    }
   ],
   "source": [
    "dummies_sex = pd.get_dummies(pesos.sex, drop_first=True)\n",
    "pesos = pd.concat([pesos, dummies_sex], axis=1)\n",
    "pesos.head()"
   ]
  },
  {
   "cell_type": "code",
   "execution_count": 13,
   "metadata": {},
   "outputs": [],
   "source": [
    "X = pesos[['weight', 'height']]\n",
    "y = pesos.M"
   ]
  },
  {
   "cell_type": "code",
   "execution_count": 46,
   "metadata": {},
   "outputs": [],
   "source": [
    "X = pesos[['M', 'height']]\n",
    "y = pesos.weight"
   ]
  },
  {
   "cell_type": "code",
   "execution_count": 47,
   "metadata": {},
   "outputs": [
    {
     "data": {
      "text/plain": [
       "LogisticRegression(C=1.0, class_weight=None, dual=False, fit_intercept=True,\n",
       "          intercept_scaling=1, max_iter=100, multi_class='ovr', n_jobs=1,\n",
       "          penalty='l2', random_state=None, solver='liblinear', tol=0.0001,\n",
       "          verbose=0, warm_start=False)"
      ]
     },
     "execution_count": 47,
     "metadata": {},
     "output_type": "execute_result"
    }
   ],
   "source": [
    "reg_log = LogisticRegression()\n",
    "reg_log.fit(X, y)"
   ]
  },
  {
   "cell_type": "markdown",
   "metadata": {},
   "source": [
    "Assim como na regressão linear, podemos observar os coeficientes"
   ]
  },
  {
   "cell_type": "code",
   "execution_count": 48,
   "metadata": {},
   "outputs": [
    {
     "data": {
      "text/plain": [
       "array([[-0.26248059, -0.03137186],\n",
       "       [-0.25857588, -0.0315893 ],\n",
       "       [-0.26248059, -0.03137186],\n",
       "       [-0.47758773, -0.02685321],\n",
       "       [-0.78024294, -0.02322421],\n",
       "       [-0.27084656, -0.03094563],\n",
       "       [-0.26796944, -0.03108653],\n",
       "       [-1.1363206 , -0.01856826],\n",
       "       [-0.65248236, -0.02438985],\n",
       "       [-1.13362441, -0.01891032],\n",
       "       [-1.22287117, -0.01753277],\n",
       "       [-0.78119479, -0.01713847],\n",
       "       [-0.85908588, -0.01726812],\n",
       "       [-0.85568908, -0.01737738],\n",
       "       [-0.53610914, -0.01955638],\n",
       "       [-0.81681307, -0.02151462],\n",
       "       [-0.77487273, -0.01757317],\n",
       "       [-0.82605976, -0.02106256],\n",
       "       [-0.24976302, -0.02210521],\n",
       "       [-0.51278264, -0.01609162],\n",
       "       [-0.54065758, -0.01941512],\n",
       "       [-0.38929226, -0.01718993],\n",
       "       [ 1.13954914, -0.02291687],\n",
       "       [ 0.74962822, -0.02215627],\n",
       "       [ 0.85036623, -0.02843354],\n",
       "       [ 0.31062998, -0.02045575],\n",
       "       [ 1.68881853, -0.02382044],\n",
       "       [ 0.78734699, -0.02446095],\n",
       "       [ 0.96834297, -0.02343034],\n",
       "       [ 0.83951043, -0.02818825],\n",
       "       [ 0.88276182, -0.02913617],\n",
       "       [ 0.81123548, -0.02492352],\n",
       "       [ 1.13954914, -0.02291687],\n",
       "       [ 0.51109828, -0.03149995],\n",
       "       [ 0.50524873, -0.02468181],\n",
       "       [ 1.10001154, -0.02703374],\n",
       "       [ 1.09684944, -0.02692168],\n",
       "       [ 0.86160268, -0.02868171],\n",
       "       [ 1.08210857, -0.02663809],\n",
       "       [ 1.07894662, -0.02641873],\n",
       "       [ 0.82676946, -0.02785619],\n",
       "       [ 0.81944023, -0.02768133],\n",
       "       [ 0.50453396, -0.03129211],\n",
       "       [ 1.22884876, -0.02444774],\n",
       "       [ 0.53166875, -0.03213617],\n",
       "       [ 0.82188568, -0.02773956],\n",
       "       [ 0.50024129, -0.03115463],\n",
       "       [ 0.80717727, -0.02739107],\n",
       "       [ 0.49372032, -0.03096411]])"
      ]
     },
     "execution_count": 48,
     "metadata": {},
     "output_type": "execute_result"
    }
   ],
   "source": [
    "reg_log.coef_"
   ]
  },
  {
   "cell_type": "code",
   "execution_count": 49,
   "metadata": {},
   "outputs": [
    {
     "data": {
      "text/plain": [
       "array([ 0.05595988,  0.07187402,  0.05595988,  0.07680377,  0.22917392,\n",
       "        0.02465856,  0.03502582,  0.13882897,  0.12009972,  0.18612002,\n",
       "        0.12637844, -0.00553576,  0.13952869,  0.15489023,  0.03256927,\n",
       "        0.01030457,  0.05708319, -0.04788224, -0.02216809, -0.11330133,\n",
       "        0.0152827 , -0.09001711, -0.10845115, -0.03111244, -0.08806485,\n",
       "       -0.09131847, -0.15979493, -0.06013678, -0.10006912, -0.10990506,\n",
       "       -0.02649814, -0.01365898, -0.10845115, -0.07010851, -0.14067901,\n",
       "       -0.08130312, -0.09284687, -0.06616109, -0.1191133 , -0.15112094,\n",
       "       -0.14850077, -0.16608561, -0.08588573, -0.2724015 , -0.0227341 ,\n",
       "       -0.16022689, -0.09640898, -0.1953289 , -0.11502875])"
      ]
     },
     "execution_count": 49,
     "metadata": {},
     "output_type": "execute_result"
    }
   ],
   "source": [
    "reg_log.intercept_"
   ]
  },
  {
   "cell_type": "markdown",
   "metadata": {},
   "source": [
    "Isso quer dizer que a equação da nossa função logística é: <br>\n",
    "    $prob(homem) = \\frac{1}{1 + e^{-(peso\\times 0.2199 - altura\\times 0.0753 - 1.5576)}}$ "
   ]
  },
  {
   "cell_type": "markdown",
   "metadata": {},
   "source": [
    "Com esses coeficientes identificamos que a reta que separa indivíduos masculinos de femininos é: <br>\n",
    "$peso\\times 0.2199 - altura\\times 0.0753 - 1.5576 = 0$"
   ]
  },
  {
   "cell_type": "markdown",
   "metadata": {},
   "source": [
    "Podemos visualizar essa reta, para isso devemos escrevê-la em função de $peso$ ou $altura$, já que meu $y$ é fixo em $0$. <br>\n",
    "Com algumas manipulações algébricas temos a reta em função da $altura$ dada por: <br><br>\n",
    "    $peso = \\frac{-altura\\times 0.0753 + 1.5576}{0.2199}$"
   ]
  },
  {
   "cell_type": "code",
   "execution_count": 17,
   "metadata": {},
   "outputs": [],
   "source": [
    "heights = np.linspace(140, 210, 70)\n",
    "coef_weight = float(reg_log.coef_[0][0])\n",
    "coef_height = float(reg_log.coef_[0][1])\n",
    "intercept = float(reg_log.intercept_)\n",
    "\n",
    "reta_decisao = (-heights*coef_height - intercept) / coef_weight"
   ]
  },
  {
   "cell_type": "code",
   "execution_count": 18,
   "metadata": {},
   "outputs": [
    {
     "data": {
      "image/png": "[encoded data removed]",
      "text/plain": [
       "<Figure size 432x288 with 1 Axes>"
      ]
     },
     "metadata": {
      "needs_background": "light"
     },
     "output_type": "display_data"
    }
   ],
   "source": [
    "plt.scatter(x=pesos.loc[pesos.sex=='M', 'height'], y=pesos.loc[pesos.sex=='M', 'weight'], c='blue')\n",
    "plt.scatter(x=pesos.loc[pesos.sex=='F', 'height'], y=pesos.loc[pesos.sex=='F', 'weight'], c='red')\n",
    "plt.plot(heights, reta_decisao, '-', c='black')\n",
    "plt.show()"
   ]
  },
  {
   "cell_type": "markdown",
   "metadata": {},
   "source": [
    "Vamos visualizar os dados classificados conferirmos se foram classificados de acordo com nossa superfície de decisão. Para isso classificamos esses mesmos dados, assim obtemos os rótulos dados durante o treinamento."
   ]
  },
  {
   "cell_type": "code",
   "execution_count": 19,
   "metadata": {},
   "outputs": [
    {
     "data": {
      "text/plain": [
       "array([1, 0, 0, 1, 0, 1, 1, 0, 1, 0, 1, 0, 0, 0, 1, 1, 0, 1, 0, 0, 0, 0,\n",
       "       0, 0, 0, 0, 0, 1, 1, 1, 0, 1, 0, 0, 1, 1, 0, 0, 1, 1, 1, 1, 0, 1,\n",
       "       0, 0, 1, 1, 0, 1, 0, 0, 1, 1, 1, 0, 1, 1, 1, 1, 1, 0, 1, 1, 0, 1,\n",
       "       0, 0, 0, 0, 0, 0, 0, 1, 0, 0, 0, 0, 0, 0, 0, 0, 0, 0, 0, 0, 1, 0,\n",
       "       1, 1, 1, 0, 0, 0, 0, 0, 0, 0, 0, 0, 0, 0, 0, 1, 0, 1, 1, 0, 0, 1,\n",
       "       0, 1, 1, 1, 0, 1, 1, 0, 0, 0, 0, 0, 0, 1, 0, 0, 1, 0, 0, 1, 0, 0,\n",
       "       0, 1, 1, 0, 0, 0, 0, 0, 0, 0, 0, 1, 1, 0, 0, 0, 0, 0, 0, 1, 0, 0,\n",
       "       0, 0, 0, 0, 0, 0, 0, 0, 1, 1, 0, 1, 0, 0, 1, 0, 1, 0, 1, 1, 1, 1,\n",
       "       0, 1, 0, 1, 0, 0, 0, 1, 0, 1, 1, 0, 0, 0, 1, 1, 1, 1, 1],\n",
       "      dtype=uint8)"
      ]
     },
     "execution_count": 19,
     "metadata": {},
     "output_type": "execute_result"
    }
   ],
   "source": [
    "classified_reg = reg_log.predict(X)\n",
    "classified_reg"
   ]
  },
  {
   "cell_type": "markdown",
   "metadata": {},
   "source": [
    "Concatenamos esses dados (na forma de um dataframe), aos dados originais para conseguirmos plotá-los."
   ]
  },
  {
   "cell_type": "code",
   "execution_count": 20,
   "metadata": {},
   "outputs": [],
   "source": [
    "pesos_classified_reg = pd.concat([pesos, pd.DataFrame(classified_reg, columns=['classificado_reg'])], axis=1)"
   ]
  },
  {
   "cell_type": "code",
   "execution_count": 21,
   "metadata": {},
   "outputs": [],
   "source": [
    "#pesos_classified_reg.head(100)"
   ]
  },
  {
   "cell_type": "code",
   "execution_count": 22,
   "metadata": {},
   "outputs": [
    {
     "data": {
      "image/png": "[encoded data removed]",
      "text/plain": [
       "<Figure size 432x288 with 1 Axes>"
      ]
     },
     "metadata": {
      "needs_background": "light"
     },
     "output_type": "display_data"
    }
   ],
   "source": [
    "plt.scatter(x=pesos_classified_reg.loc[pesos_classified_reg.classificado_reg==1.0, 'height'], y=pesos_classified_reg.loc[pesos_classified_reg.classificado_reg==1.0, 'weight'], c='blue')\n",
    "plt.scatter(x=pesos_classified_reg.loc[pesos_classified_reg.classificado_reg==0.0, 'height'], y=pesos_classified_reg.loc[pesos_classified_reg.classificado_reg==0.0, 'weight'], c='red')\n",
    "plt.plot(heights, reta_decisao, '-', c='black')\n",
    "plt.show()"
   ]
  },
  {
   "cell_type": "markdown",
   "metadata": {},
   "source": [
    "Como esperado, os indivíduos \"acima\" da reta tem valor positivo em relação a ela, logo assumem a classe 1 (masculino). Já os \"abaixo\", possuem valor negativo e assumem a classe 0"
   ]
  },
  {
   "cell_type": "markdown",
   "metadata": {},
   "source": [
    "Como o modelo de Regressão Logística é probabilístico, muitas vezes é interessante obtermos a probabilidade de um elemento pertencer à classe determinada. Neste caso usamos o método predict_proba()"
   ]
  },
  {
   "cell_type": "code",
   "execution_count": 30,
   "metadata": {},
   "outputs": [],
   "source": [
    "novo_exemplo = [[75.00, 173]]"
   ]
  },
  {
   "cell_type": "code",
   "execution_count": 32,
   "metadata": {},
   "outputs": [
    {
     "data": {
      "text/plain": [
       "array([[0.12921413, 0.87078587]])"
      ]
     },
     "execution_count": 32,
     "metadata": {},
     "output_type": "execute_result"
    }
   ],
   "source": [
    "reg_log.predict_proba(novo_exemplo)"
   ]
  },
  {
   "cell_type": "code",
   "execution_count": 31,
   "metadata": {},
   "outputs": [
    {
     "data": {
      "text/plain": [
       "array([1], dtype=uint8)"
      ]
     },
     "execution_count": 31,
     "metadata": {},
     "output_type": "execute_result"
    }
   ],
   "source": [
    "a = reg_log.predict(novo_exemplo)\n",
    "a"
   ]
  },
  {
   "cell_type": "code",
   "execution_count": 34,
   "metadata": {},
   "outputs": [
    {
     "name": "stdout",
     "output_type": "stream",
     "text": [
      "             precision    recall  f1-score   support\n",
      "\n",
      "          0       0.80      0.86      0.83       111\n",
      "          1       0.80      0.71      0.75        84\n",
      "\n",
      "avg / total       0.80      0.80      0.80       195\n",
      "\n"
     ]
    }
   ],
   "source": [
    "from sklearn.metrics import confusion_matrix\n",
    "confusion_matrix = confusion_matrix(y, classified_reg)\n",
    "confusion_matrix\n",
    "print(classification_report(y, classified_reg))"
   ]
  },
  {
   "cell_type": "markdown",
   "metadata": {},
   "source": [
    "Portanto, para nosso modelo, uma pessoa de 1,73m e 75Kg, a probabilidade de ser do sexo masculino é 87% e do feminino 13%"
   ]
  },
  {
   "cell_type": "code",
   "execution_count": 35,
   "metadata": {},
   "outputs": [
    {
     "data": {
      "text/html": [
       "<div>\n",
       "<style scoped>\n",
       "    .dataframe tbody tr th:only-of-type {\n",
       "        vertical-align: middle;\n",
       "    }\n",
       "\n",
       "    .dataframe tbody tr th {\n",
       "        vertical-align: top;\n",
       "    }\n",
       "\n",
       "    .dataframe thead th {\n",
       "        text-align: right;\n",
       "    }\n",
       "</style>\n",
       "<table border=\"1\" class=\"dataframe\">\n",
       "  <thead>\n",
       "    <tr style=\"text-align: right;\">\n",
       "      <th></th>\n",
       "      <th>weight</th>\n",
       "      <th>height</th>\n",
       "    </tr>\n",
       "  </thead>\n",
       "  <tbody>\n",
       "    <tr>\n",
       "      <th>0</th>\n",
       "      <td>77</td>\n",
       "      <td>182</td>\n",
       "    </tr>\n",
       "    <tr>\n",
       "      <th>1</th>\n",
       "      <td>58</td>\n",
       "      <td>161</td>\n",
       "    </tr>\n",
       "    <tr>\n",
       "      <th>2</th>\n",
       "      <td>53</td>\n",
       "      <td>161</td>\n",
       "    </tr>\n",
       "    <tr>\n",
       "      <th>3</th>\n",
       "      <td>68</td>\n",
       "      <td>177</td>\n",
       "    </tr>\n",
       "    <tr>\n",
       "      <th>4</th>\n",
       "      <td>59</td>\n",
       "      <td>157</td>\n",
       "    </tr>\n",
       "  </tbody>\n",
       "</table>\n",
       "</div>"
      ],
      "text/plain": [
       "   weight  height\n",
       "0      77     182\n",
       "1      58     161\n",
       "2      53     161\n",
       "3      68     177\n",
       "4      59     157"
      ]
     },
     "execution_count": 35,
     "metadata": {},
     "output_type": "execute_result"
    }
   ],
   "source": [
    "X.head()"
   ]
  },
  {
   "cell_type": "markdown",
   "metadata": {},
   "source": [
    "Em um plano 3D conseguimer ver a sigmoid"
   ]
  },
  {
   "cell_type": "code",
   "execution_count": 36,
   "metadata": {},
   "outputs": [],
   "source": [
    "from mpl_toolkits.mplot3d import Axes3D"
   ]
  },
  {
   "cell_type": "code",
   "execution_count": 37,
   "metadata": {},
   "outputs": [],
   "source": [
    "weights = X['weight']"
   ]
  },
  {
   "cell_type": "code",
   "execution_count": 38,
   "metadata": {},
   "outputs": [],
   "source": [
    "heights = X['height']"
   ]
  },
  {
   "cell_type": "code",
   "execution_count": 39,
   "metadata": {},
   "outputs": [],
   "source": [
    "probs = pd.DataFrame(reg_log.predict_proba(X)[:,1], columns=['probs'])"
   ]
  },
  {
   "cell_type": "code",
   "execution_count": 40,
   "metadata": {},
   "outputs": [],
   "source": [
    "pesos_classificados = pd.concat([X, probs], axis=1)"
   ]
  },
  {
   "cell_type": "code",
   "execution_count": 41,
   "metadata": {},
   "outputs": [
    {
     "data": {
      "text/html": [
       "<div>\n",
       "<style scoped>\n",
       "    .dataframe tbody tr th:only-of-type {\n",
       "        vertical-align: middle;\n",
       "    }\n",
       "\n",
       "    .dataframe tbody tr th {\n",
       "        vertical-align: top;\n",
       "    }\n",
       "\n",
       "    .dataframe thead th {\n",
       "        text-align: right;\n",
       "    }\n",
       "</style>\n",
       "<table border=\"1\" class=\"dataframe\">\n",
       "  <thead>\n",
       "    <tr style=\"text-align: right;\">\n",
       "      <th></th>\n",
       "      <th>weight</th>\n",
       "      <th>height</th>\n",
       "      <th>probs</th>\n",
       "    </tr>\n",
       "  </thead>\n",
       "  <tbody>\n",
       "    <tr>\n",
       "      <th>0</th>\n",
       "      <td>77</td>\n",
       "      <td>182</td>\n",
       "      <td>0.841570</td>\n",
       "    </tr>\n",
       "    <tr>\n",
       "      <th>1</th>\n",
       "      <td>58</td>\n",
       "      <td>161</td>\n",
       "      <td>0.283499</td>\n",
       "    </tr>\n",
       "    <tr>\n",
       "      <th>2</th>\n",
       "      <td>53</td>\n",
       "      <td>161</td>\n",
       "      <td>0.116413</td>\n",
       "    </tr>\n",
       "    <tr>\n",
       "      <th>3</th>\n",
       "      <td>68</td>\n",
       "      <td>177</td>\n",
       "      <td>0.516775</td>\n",
       "    </tr>\n",
       "    <tr>\n",
       "      <th>4</th>\n",
       "      <td>59</td>\n",
       "      <td>157</td>\n",
       "      <td>0.399877</td>\n",
       "    </tr>\n",
       "  </tbody>\n",
       "</table>\n",
       "</div>"
      ],
      "text/plain": [
       "   weight  height     probs\n",
       "0      77     182  0.841570\n",
       "1      58     161  0.283499\n",
       "2      53     161  0.116413\n",
       "3      68     177  0.516775\n",
       "4      59     157  0.399877"
      ]
     },
     "execution_count": 41,
     "metadata": {},
     "output_type": "execute_result"
    }
   ],
   "source": [
    "pesos_classificados.head()"
   ]
  },
  {
   "cell_type": "code",
   "execution_count": 42,
   "metadata": {},
   "outputs": [
    {
     "data": {
      "image/png": "[encoded data removed]",
      "text/plain": [
       "<Figure size 432x288 with 1 Axes>"
      ]
     },
     "metadata": {
      "needs_background": "light"
     },
     "output_type": "display_data"
    }
   ],
   "source": [
    "fig = plt.figure()\n",
    "ax = fig.add_subplot(111, projection='3d')\n",
    "ax.scatter(xs=pesos_classificados.loc[pesos_classificados.probs >= 0.5, 'height'],\n",
    "           ys=pesos_classificados.loc[pesos_classificados.probs >= 0.5, 'weight'], \n",
    "           zs=pesos_classificados.loc[pesos_classificados.probs >= 0.5, 'probs'],\n",
    "           c='blue', marker='o')\n",
    "ax.scatter(xs=pesos_classificados.loc[pesos_classificados.probs < 0.5, 'height'],\n",
    "           ys=pesos_classificados.loc[pesos_classificados.probs < 0.5, 'weight'], \n",
    "           zs=pesos_classificados.loc[pesos_classificados.probs < 0.5, 'probs'],\n",
    "           c='red', marker='o')\n",
    "ax.azim = 350 #alterar o valore aqui para rotacionar o grafico\n"
   ]
  },
  {
   "cell_type": "markdown",
   "metadata": {},
   "source": [
    "Podemos ver a superfície de decisão"
   ]
  },
  {
   "cell_type": "code",
   "execution_count": 43,
   "metadata": {},
   "outputs": [
    {
     "data": {
      "image/png": "[encoded data removed]",
      "text/plain": [
       "<Figure size 432x288 with 1 Axes>"
      ]
     },
     "metadata": {
      "needs_background": "light"
     },
     "output_type": "display_data"
    }
   ],
   "source": [
    "fig = plt.figure()\n",
    "ax = fig.add_subplot(111, projection='3d')\n",
    "ax.scatter(xs=pesos_classificados.loc[pesos_classificados.probs >= 0.5, 'height'],\n",
    "           ys=pesos_classificados.loc[pesos_classificados.probs >= 0.5, 'weight'], \n",
    "           zs=pesos_classificados.loc[pesos_classificados.probs >= 0.5, 'probs'],\n",
    "           c='blue', marker='o')\n",
    "ax.scatter(xs=pesos_classificados.loc[pesos_classificados.probs < 0.5, 'height'],\n",
    "           ys=pesos_classificados.loc[pesos_classificados.probs < 0.5, 'weight'], \n",
    "           zs=pesos_classificados.loc[pesos_classificados.probs < 0.5, 'probs'],\n",
    "           c='red', marker='o')\n",
    "ax.scatter(xs=np.linspace(140, 210, 70),\n",
    "           ys=np.linspace(40, 90, 70), \n",
    "           zs=np.ones(70)*0.5, marker='_', c='black')\n",
    "ax.azim = 350"
   ]
  },
  {
   "cell_type": "code",
   "execution_count": null,
   "metadata": {},
   "outputs": [],
   "source": []
  },
  {
   "cell_type": "code",
   "execution_count": null,
   "metadata": {},
   "outputs": [],
   "source": []
  }
 ],
 "metadata": {
  "kernelspec": {
   "display_name": "Python 3",
   "language": "python",
   "name": "python3"
  },
  "language_info": {
   "codemirror_mode": {
    "name": "ipython",
    "version": 3
   },
   "file_extension": ".py",
   "mimetype": "text/x-python",
   "name": "python",
   "nbconvert_exporter": "python",
   "pygments_lexer": "ipython3",
   "version": "3.7.3"
  }
 },
 "nbformat": 4,
 "nbformat_minor": 1
}
