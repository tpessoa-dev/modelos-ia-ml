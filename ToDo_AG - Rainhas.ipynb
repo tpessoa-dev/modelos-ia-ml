{
 "cells": [
  {
   "cell_type": "code",
   "execution_count": 1,
   "metadata": {},
   "outputs": [],
   "source": [
    "geneSetColuna = \"ABCDEFGH\"\n",
    "geneSetLinha = \"12345678\""
   ]
  },
  {
   "cell_type": "code",
   "execution_count": 2,
   "metadata": {},
   "outputs": [],
   "source": [
    "import random\n",
    "\n",
    "def generate_parent(length):\n",
    "    # Cada par de genes representa um elemento\n",
    "    genes = []\n",
    "    \n",
    "    while len(genes) < length:\n",
    "        if(len(genes)%2 == 0):\n",
    "            genes.extend(random.sample(geneSetColuna, 1))\n",
    "        else:\n",
    "            genes.extend(random.sample(geneSetLinha, 1))\n",
    "        \n",
    "    return ''.join(genes)"
   ]
  },
  {
   "cell_type": "code",
   "execution_count": 3,
   "metadata": {},
   "outputs": [],
   "source": [
    "def get_fitness(guess):\n",
    "    # A nota do individuo começa em zero (individuo perfeito)\n",
    "    fitness = 0\n",
    "    \n",
    "    # Verifica quantos elementos repetidos temos na coluna\n",
    "    for coluna in geneSetColuna:\n",
    "        nota = guess.count(coluna)\n",
    "        \n",
    "        if nota > 0:\n",
    "            # Se houver apenas 1 elemento não ha repetições\n",
    "            fitness += (nota - 1)\n",
    "    \n",
    "    # Verifica quantos elementos repetidos temos na linha\n",
    "    for linha in geneSetLinha:\n",
    "        nota = guess.count(linha)\n",
    "        \n",
    "        if nota > 0:\n",
    "            # Se houver apenas 1 elemento não ha repetições\n",
    "            fitness += (nota - 1)\n",
    "\n",
    "    # ToDo: Podemos criar um método para validar as diagonais\n",
    "    # ToDo: Podemos mudar o método para validar casas para outras peças, como o cavalo \n",
    "            \n",
    "    return fitness"
   ]
  },
  {
   "cell_type": "code",
   "execution_count": 4,
   "metadata": {},
   "outputs": [],
   "source": [
    "def mutate(parent):\n",
    "    index = random.randrange(0, len(parent))\n",
    "                \n",
    "    childGenes = list(parent)\n",
    "    \n",
    "    # O processo de mutação é semelhante ao Hello World\n",
    "    # A diferença é que se o index for par, pegamos do conjunto de colunas, caso contrario pegamos do conjunto linha\n",
    "    if index%2 == 0:\n",
    "        childGenes[index] = random.choice(geneSetColuna)\n",
    "    else:\n",
    "        childGenes[index] = random.choice(geneSetLinha)\n",
    "    \n",
    "    return ''.join(childGenes)"
   ]
  },
  {
   "cell_type": "code",
   "execution_count": 5,
   "metadata": {},
   "outputs": [],
   "source": [
    "import datetime\n",
    "\n",
    "def display(guess):\n",
    "    timeDiff = datetime.datetime.now() - startTime\n",
    "    \n",
    "    fitness = get_fitness(guess)\n",
    "    \n",
    "    print(\"{0}\\t{1}\\t{2}\".format(guess, fitness, str(timeDiff)))"
   ]
  },
  {
   "cell_type": "code",
   "execution_count": 6,
   "metadata": {},
   "outputs": [
    {
     "name": "stdout",
     "output_type": "stream",
     "text": [
      "H3E3D3E4G6B5A1G1\t5\t0:00:00\n"
     ]
    }
   ],
   "source": [
    "random.seed()\n",
    "\n",
    "startTime = datetime.datetime.now()\n",
    "\n",
    "# Geramos um pai com 16 posições, ou 8 pares (elementos)\n",
    "bestParent = generate_parent(16)    \n",
    "bestFitness = get_fitness(bestParent)\n",
    "\n",
    "display(bestParent)"
   ]
  },
  {
   "cell_type": "code",
   "execution_count": 7,
   "metadata": {},
   "outputs": [
    {
     "name": "stdout",
     "output_type": "stream",
     "text": [
      "H3E3D3E4G6B5A8G1\t4\t0:00:00.213625\n",
      "H3E3D3E4F6B5A8G1\t3\t0:00:00.213625\n",
      "H7E3D3E4F6B5A8G1\t2\t0:00:00.213997\n",
      "H7E3D2E4F6B5A8G1\t1\t0:00:00.213997\n",
      "H7C3D2E4F6B5A8G1\t0\t0:00:00.213997\n",
      "71\n"
     ]
    }
   ],
   "source": [
    "i = 0\n",
    "\n",
    "while True:\n",
    "    child = mutate(bestParent)\n",
    "    \n",
    "    childFitness = get_fitness(child)\n",
    "\n",
    "    i += 1\n",
    "    \n",
    "    # A validação muda, ja que queremos que o filho seja menor que o pai (menos repetições)\n",
    "    if childFitness >= bestFitness:\n",
    "        continue\n",
    "        \n",
    "    display(child)\n",
    "        \n",
    "    if childFitness == 0:\n",
    "        break\n",
    "        \n",
    "    bestFitness = childFitness\n",
    "    bestParent = child\n",
    "    \n",
    "print(i)"
   ]
  },
  {
   "cell_type": "code",
   "execution_count": null,
   "metadata": {},
   "outputs": [],
   "source": []
  },
  {
   "cell_type": "code",
   "execution_count": null,
   "metadata": {
    "collapsed": true
   },
   "outputs": [],
   "source": []
  }
 ],
 "metadata": {
  "kernelspec": {
   "display_name": "Python 3",
   "language": "python",
   "name": "python3"
  },
  "language_info": {
   "codemirror_mode": {
    "name": "ipython",
    "version": 3
   },
   "file_extension": ".py",
   "mimetype": "text/x-python",
   "name": "python",
   "nbconvert_exporter": "python",
   "pygments_lexer": "ipython3",
   "version": "3.7.3"
  }
 },
 "nbformat": 4,
 "nbformat_minor": 2
}
